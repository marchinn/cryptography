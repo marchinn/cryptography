{
 "cells": [
  {
   "cell_type": "code",
   "execution_count": null,
   "metadata": {},
   "outputs": [],
   "source": [
    "key = \"ABCDEFGHIJKLMNOPQRSTUVWXYZ\"\n",
    "\n",
    "def CipherVariants(word: str):\n",
    "    input_word = \"\"\n",
    "\n",
    "    n = len(key)\n",
    "\n",
    "    for i in range(0, n):\n",
    "        print(\"n = \", i, \":\")\n",
    "\n",
    "        for letter in word:\n",
    "            index = key.find(letter)\n",
    "\n",
    "            if index == -1:\n",
    "                input_word += letter\n",
    "            else:\n",
    "                new_index = (index + i) % len(key)\n",
    "                input_word += key[new_index]\n",
    "\n",
    "\n",
    "        print (input_word)\n",
    "        input_word = \"\""
   ]
  }
 ],
 "metadata": {
  "kernelspec": {
   "display_name": "Python 3",
   "language": "python",
   "name": "python3"
  },
  "language_info": {
   "codemirror_mode": {
    "name": "ipython",
    "version": 3
   },
   "file_extension": ".py",
   "mimetype": "text/x-python",
   "name": "python",
   "nbconvert_exporter": "python",
   "pygments_lexer": "ipython3",
   "version": "3.13.0"
  }
 },
 "nbformat": 4,
 "nbformat_minor": 2
}
