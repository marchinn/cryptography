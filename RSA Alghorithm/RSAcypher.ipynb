{
 "cells": [
  {
   "cell_type": "code",
   "execution_count": null,
   "metadata": {
    "colab": {
     "base_uri": "https://localhost:8080/"
    },
    "executionInfo": {
     "elapsed": 10,
     "status": "ok",
     "timestamp": 1744474613731,
     "user": {
      "displayName": "Оксана Голубева",
      "userId": "00564502328008870228"
     },
     "user_tz": -180
    },
    "id": "85RU1rcx3sUH",
    "outputId": "e2001665-0342-41e0-e6f3-823f8d5f2f39"
   },
   "outputs": [
    {
     "name": "stdout",
     "output_type": "stream",
     "text": [
      "open key:  33047 33463\n",
      "closed key:  33047 33463\n",
      "encrypted message:  1090\n",
      "decrypted message:  109\n"
     ]
    }
   ],
   "source": [
    "class RSA:\n",
    "  def __init__(self, p, q):\n",
    "    self.p = p\n",
    "    self.q = q\n",
    "   # generating pass keys\n",
    "    self.N = p*q\n",
    "    self.phi = (p-1)*(q-1) # Euler's func\n",
    "    self.exp = self.find_exp()\n",
    "    self.d = self.modinv(self.exp, self.phi)\n",
    "\n",
    "\n",
    "  def find_exp(self):\n",
    "      phi = (self.p-1) * (self.q-1)\n",
    "      exp = phi - 1\n",
    "      for _ in range(phi // 2):\n",
    "        for i in range(2, int(pow(exp, 1/2))):\n",
    "          if exp % i == 0:\n",
    "            exp -= 1\n",
    "            continue\n",
    "          else:\n",
    "            if self.NOD_Euclid(exp, self.phi) == 1:\n",
    "              return exp\n",
    "            continue\n",
    "\n",
    "  def NOD_Euclid(self, a, b):\n",
    "    while a!=0 and b!=0:\n",
    "      if a > b:\n",
    "        a = a % b\n",
    "      else:\n",
    "        b = b % a\n",
    "    return a + b\n",
    "\n",
    "\n",
    "  def modinv(self, a, m):\n",
    "        # расширенный алгоритм Евклида для нахождения обратного по модулю\n",
    "        m0, x0, x1 = m, 0, 1\n",
    "        while a > 1:\n",
    "            q = a // m  # целочисленное деление\n",
    "            a, m = m, a % m  # обновляем a и m\n",
    "            x0, x1 = x1 - q * x0, x0  # обновляем x0 и x1\n",
    "        return x1 + m0 if x1 < 0 else x1\n",
    "\n",
    "  def print_keys(self):\n",
    "    print(\"open key: \", self.exp, self.N)\n",
    "    print(\"closed key: \", self.d, self.N)\n",
    "\n",
    "  def mod_pow(self, base, exponent, modulus):  # алгоритм быстрового возведения в степень\n",
    "    result = 1 # начинаем с самой масенькой степени, рассмотрим один цикл в mod_pow(g=7, a=9, p=41) или g^a % p\n",
    "    base %= modulus # понижаем степень, чтобы она не росла слишком быстро т.е на 1ом шаге 7(g) % 9(a) = 7\n",
    "    while exponent > 0:\n",
    "        if exponent % 2 == 1:  # если степень нечётная то\n",
    "           result = (result * base) % modulus # т.е 1*7 % 9 = 7\n",
    "        exponent //= 2 #  если чётное то понижаем вдвое, используем целочисленное деление\n",
    "        base = (base * base) % modulus # присваиваем основанию ((основание возведённое в степень самого себя) % 9) и тд\n",
    "    return result # на выходе, когда степень стала <= 0, возвращаем полученное число\n",
    "\n",
    "  def encrypt(self, X):\n",
    "    Y = self.mod_pow(X, self.exp, self.N)\n",
    "    return Y\n",
    "\n",
    "  def decrypt(self, Y):\n",
    "    X = self.mod_pow(Y, self.d, self.N)\n",
    "    return X\n",
    "\n",
    "new_RSA = RSA(109, 307)\n",
    "new_RSA.print_keys()\n",
    "\n",
    "message = 109\n",
    "encrypted_message = new_RSA.encrypt(message)\n",
    "decrypted_message = new_RSA.decrypt(encrypted_message)\n",
    "\n",
    "print(\"encrypted message: \", encrypted_message)\n",
    "print(\"decrypted message: \", decrypted_message)"
   ]
  }
 ],
 "metadata": {
  "colab": {
   "authorship_tag": "ABX9TyOjbGB6QJ7Hgx7K48f5lzsF",
   "provenance": []
  },
  "kernelspec": {
   "display_name": "Python 3",
   "name": "python3"
  },
  "language_info": {
   "codemirror_mode": {
    "name": "ipython",
    "version": 3
   },
   "file_extension": ".py",
   "mimetype": "text/x-python",
   "name": "python",
   "nbconvert_exporter": "python",
   "pygments_lexer": "ipython3",
   "version": "3.10.10"
  }
 },
 "nbformat": 4,
 "nbformat_minor": 0
}
